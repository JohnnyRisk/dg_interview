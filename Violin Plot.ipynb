{
 "cells": [
  {
   "cell_type": "code",
   "execution_count": 10,
   "metadata": {
    "collapsed": true
   },
   "outputs": [],
   "source": [
    "import numpy as np\n",
    "import pandas as pd\n",
    "import matplotlib.pyplot as plt\n",
    "import os\n",
    "%matplotlib inline"
   ]
  },
  {
   "cell_type": "code",
   "execution_count": 25,
   "metadata": {
    "collapsed": false
   },
   "outputs": [],
   "source": [
    "file_names=['prediction_scores.train.val.txt','prediction_scores.val.val.txt']\n",
    "score_dict={}\n",
    "score_list=[]\n",
    "for i, file_name in enumerate(file_names):\n",
    "    dices=[]\n",
    "    jaccards=[]\n",
    "    with open(file_name) as file:\n",
    "        for line in file:\n",
    "            dice, jaccard = line.split(\" \")\n",
    "            if dice!='nan':\n",
    "                dices.append(float(dice))\n",
    "                jaccards.append(float(jaccard))\n",
    "    file.close()\n",
    "    if i==0:\n",
    "        pre=\"train_\"\n",
    "    else:\n",
    "        pre=\"val_\"\n",
    "    score_list.append(np.array(dices))\n",
    "    score_list.append(np.array(jaccards))\n",
    "    score_dict[pre+'dice'] =dices\n",
    "    score_dict[pre+'jaccard'] = jaccards\n",
    "scores = pd.DataFrame(data=score_dict)"
   ]
  },
  {
   "cell_type": "code",
   "execution_count": 19,
   "metadata": {
    "collapsed": false
   },
   "outputs": [],
   "source": [
    "all_data = [x for x in scores.to_dict()]"
   ]
  },
  {
   "cell_type": "code",
   "execution_count": 20,
   "metadata": {
    "collapsed": false
   },
   "outputs": [
    {
     "data": {
      "text/plain": [
       "['val_dice', 'train_jaccard', 'val_jaccard', 'train_dice']"
      ]
     },
     "execution_count": 20,
     "metadata": {},
     "output_type": "execute_result"
    }
   ],
   "source": [
    "all_data"
   ]
  },
  {
   "cell_type": "code",
   "execution_count": 29,
   "metadata": {
    "collapsed": false
   },
   "outputs": [
    {
     "data": {
      "image/png": "[encoded data removed]",
      "text/plain": [
       "<matplotlib.figure.Figure at 0x7f42be7e9208>"
      ]
     },
     "metadata": {},
     "output_type": "display_data"
    }
   ],
   "source": [
    "fig, axes = plt.subplots(nrows=1, ncols=2, figsize=(9, 4))\n",
    "\n",
    "# plot violin plot\n",
    "axes[0].violinplot(score_list,\n",
    "                   showmeans=False,\n",
    "                   showmedians=True)\n",
    "axes[0].set_title('violin plot')\n",
    "\n",
    "# plot box plot\n",
    "axes[1].boxplot(score_list)\n",
    "axes[1].set_title('box plot')\n",
    "\n",
    "# adding horizontal grid lines\n",
    "for ax in axes:\n",
    "    ax.yaxis.grid(True)\n",
    "    ax.set_xticks([y+1 for y in range(len(score_list))])\n",
    "    ax.set_xlabel('xlabel')\n",
    "    ax.set_ylabel('Dice / Jaccard Score')\n",
    "\n",
    "# add x-tick labels\n",
    "plt.setp(axes, xticks=[y+1 for y in range(len(score_list))],\n",
    "         xticklabels=['Tr Dice', 'Tr Jaccard', 'Val Dice', 'Val Jaccard'])\n",
    "plt.show()"
   ]
  },
  {
   "cell_type": "code",
   "execution_count": null,
   "metadata": {
    "collapsed": true
   },
   "outputs": [],
   "source": []
  }
 ],
 "metadata": {
  "kernelspec": {
   "display_name": "Python 3",
   "language": "python",
   "name": "python3"
  },
  "language_info": {
   "codemirror_mode": {
    "name": "ipython",
    "version": 3
   },
   "file_extension": ".py",
   "mimetype": "text/x-python",
   "name": "python",
   "nbconvert_exporter": "python",
   "pygments_lexer": "ipython3",
   "version": "3.5.3"
  }
 },
 "nbformat": 4,
 "nbformat_minor": 2
}
